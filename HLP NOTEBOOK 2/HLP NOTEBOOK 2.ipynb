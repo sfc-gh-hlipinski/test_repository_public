{
  "metadata": {
   "kernelspec": {
    "display_name": "Jupyter Notebook",
    "name": "jupyter"
   }
  },
  "nbformat_minor": 5,
  "nbformat": 4,
  "cells": [
    {
    "cell_type": "code",
    "id": "3775908f-ca36-4846-8f38-5adca39217f2",
    "metadata": {
      "language": "python",
      "name": "cell1"
    },
    "source": "# Import python packages\nimport pandas as pd\nimport altair as alt # If Altair is not found, you need to install it first.\n\n# We can also use Snowpark for our analyses!\nfrom snowflake.snowpark.context import get_active_session\nsession = get_active_session()",
    "execution_count": null,
    "outputs": []
    },
    {
    "cell_type": "code",
    "id": "8d50cbf4-0c8d-4950-86cb-114990437ac9",
    "metadata": {
      "language": "sql",
      "name": "cell2"
    },
    "source": "-- Welcome to Snowflake Notebooks!\n-- Try out a SQL cell to generate some data.\nSELECT 'FRIDAY' as SNOWDAY, 0.2 as CHANCE_OF_SNOW\nUNION ALL\nSELECT 'SATURDAY',0.5\nUNION ALL \nSELECT 'SUNDAY', 0.9;",
    "execution_count": null,
    "outputs": []
    },
    {
    "cell_type": "code",
    "id": "c695373e-ac74-4b62-a1f1-08206cbd5c81",
    "metadata": {
      "language": "python",
      "name": "cell3"
    },
    "source": "# Then, we can turn cell2 into a Pandas dataframe in a Python cell\nmy_df = cell2.to_pandas()\n\n# Create an Altair bar chart\nchart = alt.Chart(my_df).mark_bar().encode(\nx=alt.X('SNOWDAY:N', title='Day of Week'),\ny=alt.Y('CHANCE_OF_SNOW:Q', title='Probability of Snow'),\ncolor=alt.Color('CHANCE_OF_SNOW:Q', scale=alt.Scale(scheme='blues'))\n).properties(\ntitle='Snow Forecast by Day',\nwidth=700,\nheight=300\n)\n\n# Display the chart\nchart\n",
    "execution_count": null,
    "outputs": []
    }
  ]
}
